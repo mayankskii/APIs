{
 "cells": [
  {
   "cell_type": "code",
   "execution_count": 1,
   "metadata": {},
   "outputs": [],
   "source": [
    "import pandas as pd\n",
    "import dask.dataframe as dd"
   ]
  },
  {
   "cell_type": "code",
   "execution_count": null,
   "metadata": {},
   "outputs": [],
   "source": [
    "URL = 'https://www.owler.com/'\n",
    "user_agent = 'Mozilla/5.0 (Macintosh; Intel Mac OS X 10_15_0) AppleWebKit/537.36 (KHTML, like Gecko) Chrome/77.0.3865.120 Safari/537.36'\n",
    "referer = 'https://www.owler.com/portfolio'\n",
    "headers = {'user-agent': user_agent, 'referer':referer}\n",
    "r = requests.get(URL, timeout= 30, allow_redirects=True, headers = headers)\n",
    "print('Connection --> ',r.status_code)\n",
    "soup = BeautifulSoup(r.content, \"html.parser\")"
   ]
  },
  {
   "cell_type": "code",
   "execution_count": 2,
   "metadata": {},
   "outputs": [
    {
     "name": "stderr",
     "output_type": "stream",
     "text": [
      "<string>:2: DtypeWarning: Columns (41,42,43,44,45,46,47,48,49,50,51,52) have mixed types. Specify dtype option on import or set low_memory=False.\n"
     ]
    },
    {
     "name": "stdout",
     "output_type": "stream",
     "text": [
      "CPU times: user 52.1 s, sys: 21.5 s, total: 1min 13s\n",
      "Wall time: 1min 16s\n"
     ]
    }
   ],
   "source": [
    "%time a = pd.read_csv('/Users/mayankmahawar/Downloads/BasicCompanyDataAsOneFile-2019-10-01.csv')"
   ]
  },
  {
   "cell_type": "code",
   "execution_count": 3,
   "metadata": {},
   "outputs": [
    {
     "name": "stdout",
     "output_type": "stream",
     "text": [
      "CPU times: user 101 ms, sys: 53.4 ms, total: 154 ms\n",
      "Wall time: 163 ms\n"
     ]
    }
   ],
   "source": [
    "%time df = dd.read_csv('/Users/mayankmahawar/Downloads/BasicCompanyDataAsOneFile-2019-10-01.csv')"
   ]
  },
  {
   "cell_type": "code",
   "execution_count": null,
   "metadata": {},
   "outputs": [],
   "source": [
    "import sys\n",
    "sys.getsizeof(a)"
   ]
  },
  {
   "cell_type": "code",
   "execution_count": null,
   "metadata": {},
   "outputs": [],
   "source": [
    "process(a)"
   ]
  },
  {
   "cell_type": "markdown",
   "metadata": {},
   "source": [
    "<div class=\"alert alert-block alert-info\">\n",
    "<b>Tip:</b> Use blue boxes (alert-info) for tips and notes. \n",
    "If it’s a note, you don’t have to include the word “Note”.\n",
    "</div>"
   ]
  },
  {
   "cell_type": "markdown",
   "metadata": {},
   "source": [
    "<div class=\"alert alert-block alert-warning\">\n",
    "<b>Example:</b> Use yellow boxes for examples that are not \n",
    "inside code cells, or use for mathematical formulas if needed.\n",
    "</div>"
   ]
  },
  {
   "cell_type": "markdown",
   "metadata": {},
   "source": [
    "<div class=\"alert alert-block alert-success\">\n",
    "<b>Up to you:</b> Use green boxes sparingly, and only for some specific \n",
    "purpose that the other boxes can't cover. For example, if you have a lot \n",
    "of related content to link to, maybe you decide to use green boxes for \n",
    "related links from each section of a notebook.\n",
    "</div>"
   ]
  },
  {
   "cell_type": "markdown",
   "metadata": {},
   "source": [
    "<div class=\"alert alert-block alert-danger\">\n",
    "<b>Just don't:</b> In general, avoid the red boxes. These should only be\n",
    "used for actions that might cause data loss or another major issue.\n",
    "</div>"
   ]
  },
  {
   "cell_type": "markdown",
   "metadata": {},
   "source": [
    "<div>&#9642;</div>"
   ]
  },
  {
   "cell_type": "markdown",
   "metadata": {},
   "source": [
    "$ a = 3b+2c $"
   ]
  },
  {
   "cell_type": "code",
   "execution_count": 8,
   "metadata": {},
   "outputs": [
    {
     "data": {
      "text/plain": [
       "'/Users/mayankmahawar/Documents/GitHub/APIs'"
      ]
     },
     "execution_count": 8,
     "metadata": {},
     "output_type": "execute_result"
    }
   ],
   "source": [
    "pwd"
   ]
  },
  {
   "cell_type": "code",
   "execution_count": 9,
   "metadata": {},
   "outputs": [
    {
     "name": "stdout",
     "output_type": "stream",
     "text": [
      "NamespaceMagics\t a\t dd\t df\t get_ipython\t getsizeof\t json\t np\t pd\t \n",
      "var_dic_list\t \n"
     ]
    }
   ],
   "source": [
    "who"
   ]
  },
  {
   "cell_type": "code",
   "execution_count": 14,
   "metadata": {},
   "outputs": [],
   "source": [
    "del a,dd,df,getsizeof,pd"
   ]
  },
  {
   "cell_type": "code",
   "execution_count": 11,
   "metadata": {},
   "outputs": [
    {
     "name": "stdout",
     "output_type": "stream",
     "text": [
      "NamespaceMagics\t a\t dd\t df\t get_ipython\t getsizeof\t json\t pd\t var_dic_list\t \n",
      "\n"
     ]
    }
   ],
   "source": [
    "who"
   ]
  },
  {
   "cell_type": "code",
   "execution_count": 25,
   "metadata": {},
   "outputs": [],
   "source": [
    "%colors LightBG"
   ]
  },
  {
   "cell_type": "code",
   "execution_count": 68,
   "metadata": {},
   "outputs": [
    {
     "name": "stdout",
     "output_type": "stream",
     "text": [
      "\u001b[35m\"red\"\u001b[0m\n"
     ]
    }
   ],
   "source": [
    "print(\"\\x1b[35m\\\"red\\\"\\x1b[0m\")"
   ]
  },
  {
   "cell_type": "code",
   "execution_count": 37,
   "metadata": {},
   "outputs": [
    {
     "name": "stdout",
     "output_type": "stream",
     "text": [
      "\u001b[6;30;42mSuccess!\u001b[0m\n"
     ]
    }
   ],
   "source": [
    "print('\\x1b[6;30;42m' + 'Success!' + '\\x1b[0m')"
   ]
  },
  {
   "cell_type": "code",
   "execution_count": 78,
   "metadata": {},
   "outputs": [
    {
     "name": "stdout",
     "output_type": "stream",
     "text": [
      "\u001b[31;5;136mError, does not compute!\u001b[6m\n"
     ]
    }
   ],
   "source": [
    "CRED = '\\x1b[31;5;136m'\n",
    "CEND = '\\x1b[6m'\n",
    "print(CRED + \"Error, does not compute!\" + CEND)"
   ]
  },
  {
   "cell_type": "code",
   "execution_count": 76,
   "metadata": {},
   "outputs": [
    {
     "name": "stdout",
     "output_type": "stream",
     "text": [
      "\u001b[5mHelloWorld\u001b[0m\n"
     ]
    }
   ],
   "source": [
    "print(\"\\033[5mHelloWorld\\033[0m\")"
   ]
  },
  {
   "cell_type": "code",
   "execution_count": null,
   "metadata": {},
   "outputs": [],
   "source": []
  },
  {
   "cell_type": "code",
   "execution_count": 44,
   "metadata": {},
   "outputs": [],
   "source": [
    "CEND      = '\\33[0m'\n",
    "CBOLD     = '\\33[1m'\n",
    "CITALIC   = '\\33[3m'\n",
    "CURL      = '\\33[4m'\n",
    "CBLINK    = '\\33[5m'\n",
    "CBLINK2   = '\\33[6m'\n",
    "CSELECTED = '\\33[7m'\n",
    "\n",
    "CBLACK  = '\\33[30m'\n",
    "CRED    = '\\33[31m'\n",
    "CGREEN  = '\\33[32m'\n",
    "CYELLOW = '\\33[33m'\n",
    "CBLUE   = '\\33[34m'\n",
    "CVIOLET = '\\33[35m'\n",
    "CBEIGE  = '\\33[36m'\n",
    "CWHITE  = '\\33[37m'\n",
    "\n",
    "CBLACKBG  = '\\33[40m'\n",
    "CREDBG    = '\\33[41m'\n",
    "CGREENBG  = '\\33[42m'\n",
    "CYELLOWBG = '\\33[43m'\n",
    "CBLUEBG   = '\\33[44m'\n",
    "CVIOLETBG = '\\33[45m'\n",
    "CBEIGEBG  = '\\33[46m'\n",
    "CWHITEBG  = '\\33[47m'\n",
    "\n",
    "CGREY    = '\\33[90m'\n",
    "CRED2    = '\\33[91m'\n",
    "CGREEN2  = '\\33[92m'\n",
    "CYELLOW2 = '\\33[93m'\n",
    "CBLUE2   = '\\33[94m'\n",
    "CVIOLET2 = '\\33[95m'\n",
    "CBEIGE2  = '\\33[96m'\n",
    "CWHITE2  = '\\33[97m'\n",
    "\n",
    "CGREYBG    = '\\33[100m'\n",
    "CREDBG2    = '\\33[101m'\n",
    "CGREENBG2  = '\\33[102m'\n",
    "CYELLOWBG2 = '\\33[103m'\n",
    "CBLUEBG2   = '\\33[104m'\n",
    "CVIOLETBG2 = '\\33[105m'\n",
    "CBEIGEBG2  = '\\33[106m'\n",
    "CWHITEBG2  = '\\33[107m'"
   ]
  },
  {
   "cell_type": "code",
   "execution_count": 73,
   "metadata": {},
   "outputs": [
    {
     "name": "stdout",
     "output_type": "stream",
     "text": [
      "\u001b[0m\\33[0m\u001b[0m \u001b[1m\\33[1m\u001b[0m \u001b[2m\\33[2m\u001b[0m \u001b[3m\\33[3m\u001b[0m \u001b[4m\\33[4m\u001b[0m \n",
      "\u001b[5m\\33[5m\u001b[0m \u001b[6m\\33[6m\u001b[0m \u001b[7m\\33[7m\u001b[0m \u001b[8m\\33[8m\u001b[0m \u001b[9m\\33[9m\u001b[0m \n",
      "\u001b[10m\\33[10m\u001b[0m \u001b[11m\\33[11m\u001b[0m \u001b[12m\\33[12m\u001b[0m \u001b[13m\\33[13m\u001b[0m \u001b[14m\\33[14m\u001b[0m \n",
      "\u001b[15m\\33[15m\u001b[0m \u001b[16m\\33[16m\u001b[0m \u001b[17m\\33[17m\u001b[0m \u001b[18m\\33[18m\u001b[0m \u001b[19m\\33[19m\u001b[0m \n",
      "\u001b[20m\\33[20m\u001b[0m \u001b[21m\\33[21m\u001b[0m \u001b[22m\\33[22m\u001b[0m \u001b[23m\\33[23m\u001b[0m \u001b[24m\\33[24m\u001b[0m \n",
      "\u001b[25m\\33[25m\u001b[0m \u001b[26m\\33[26m\u001b[0m \u001b[27m\\33[27m\u001b[0m \u001b[28m\\33[28m\u001b[0m \u001b[29m\\33[29m\u001b[0m \n",
      "\u001b[30m\\33[30m\u001b[0m \u001b[31m\\33[31m\u001b[0m \u001b[32m\\33[32m\u001b[0m \u001b[33m\\33[33m\u001b[0m \u001b[34m\\33[34m\u001b[0m \n",
      "\u001b[35m\\33[35m\u001b[0m \u001b[36m\\33[36m\u001b[0m \u001b[37m\\33[37m\u001b[0m \u001b[38m\\33[38m\u001b[0m \u001b[39m\\33[39m\u001b[0m \n",
      "\u001b[40m\\33[40m\u001b[0m \u001b[41m\\33[41m\u001b[0m \u001b[42m\\33[42m\u001b[0m \u001b[43m\\33[43m\u001b[0m \u001b[44m\\33[44m\u001b[0m \n",
      "\u001b[45m\\33[45m\u001b[0m \u001b[46m\\33[46m\u001b[0m \u001b[47m\\33[47m\u001b[0m \u001b[48m\\33[48m\u001b[0m \u001b[49m\\33[49m\u001b[0m \n",
      "\u001b[50m\\33[50m\u001b[0m \u001b[51m\\33[51m\u001b[0m \u001b[52m\\33[52m\u001b[0m \u001b[53m\\33[53m\u001b[0m \u001b[54m\\33[54m\u001b[0m \n",
      "\u001b[55m\\33[55m\u001b[0m \u001b[56m\\33[56m\u001b[0m \u001b[57m\\33[57m\u001b[0m \u001b[58m\\33[58m\u001b[0m \u001b[59m\\33[59m\u001b[0m \n",
      "\u001b[60m\\33[60m\u001b[0m \u001b[61m\\33[61m\u001b[0m \u001b[62m\\33[62m\u001b[0m \u001b[63m\\33[63m\u001b[0m \u001b[64m\\33[64m\u001b[0m \n",
      "\u001b[65m\\33[65m\u001b[0m \u001b[66m\\33[66m\u001b[0m \u001b[67m\\33[67m\u001b[0m \u001b[68m\\33[68m\u001b[0m \u001b[69m\\33[69m\u001b[0m \n",
      "\u001b[70m\\33[70m\u001b[0m \u001b[71m\\33[71m\u001b[0m \u001b[72m\\33[72m\u001b[0m \u001b[73m\\33[73m\u001b[0m \u001b[74m\\33[74m\u001b[0m \n",
      "\u001b[75m\\33[75m\u001b[0m \u001b[76m\\33[76m\u001b[0m \u001b[77m\\33[77m\u001b[0m \u001b[78m\\33[78m\u001b[0m \u001b[79m\\33[79m\u001b[0m \n",
      "\u001b[80m\\33[80m\u001b[0m \u001b[81m\\33[81m\u001b[0m \u001b[82m\\33[82m\u001b[0m \u001b[83m\\33[83m\u001b[0m \u001b[84m\\33[84m\u001b[0m \n",
      "\u001b[85m\\33[85m\u001b[0m \u001b[86m\\33[86m\u001b[0m \u001b[87m\\33[87m\u001b[0m \u001b[88m\\33[88m\u001b[0m \u001b[89m\\33[89m\u001b[0m \n",
      "\u001b[90m\\33[90m\u001b[0m \u001b[91m\\33[91m\u001b[0m \u001b[92m\\33[92m\u001b[0m \u001b[93m\\33[93m\u001b[0m \u001b[94m\\33[94m\u001b[0m \n",
      "\u001b[95m\\33[95m\u001b[0m \u001b[96m\\33[96m\u001b[0m \u001b[97m\\33[97m\u001b[0m \u001b[98m\\33[98m\u001b[0m \u001b[99m\\33[99m\u001b[0m \n",
      "\u001b[100m\\33[100m\u001b[0m \u001b[101m\\33[101m\u001b[0m \u001b[102m\\33[102m\u001b[0m \u001b[103m\\33[103m\u001b[0m \u001b[104m\\33[104m\u001b[0m \n",
      "\u001b[105m\\33[105m\u001b[0m \u001b[106m\\33[106m\u001b[0m \u001b[107m\\33[107m\u001b[0m \u001b[108m\\33[108m\u001b[0m \u001b[109m\\33[109m\u001b[0m \n",
      "\u001b[110m\\33[110m\u001b[0m \u001b[111m\\33[111m\u001b[0m \u001b[112m\\33[112m\u001b[0m \u001b[113m\\33[113m\u001b[0m \u001b[114m\\33[114m\u001b[0m \n",
      "\u001b[115m\\33[115m\u001b[0m \u001b[116m\\33[116m\u001b[0m \u001b[117m\\33[117m\u001b[0m \u001b[118m\\33[118m\u001b[0m \u001b[119m\\33[119m\u001b[0m \n"
     ]
    }
   ],
   "source": [
    "x = 0\n",
    "for i in range(24):\n",
    "  colors = \"\"\n",
    "  for j in range(5):\n",
    "    code = str(x+j)\n",
    "    colors = colors + \"\\33[\" + code + \"m\\\\33[\" + code + \"m\\033[0m \"\n",
    "  print(colors)\n",
    "  x=x+5"
   ]
  },
  {
   "cell_type": "code",
   "execution_count": 47,
   "metadata": {},
   "outputs": [
    {
     "name": "stdout",
     "output_type": "stream",
     "text": [
      "Hi\n"
     ]
    }
   ],
   "source": [
    "print('Hi')"
   ]
  },
  {
   "cell_type": "code",
   "execution_count": null,
   "metadata": {},
   "outputs": [],
   "source": []
  }
 ],
 "metadata": {
  "kernelspec": {
   "display_name": "Python 3",
   "language": "python",
   "name": "python3"
  },
  "language_info": {
   "codemirror_mode": {
    "name": "ipython",
    "version": 3
   },
   "file_extension": ".py",
   "mimetype": "text/x-python",
   "name": "python",
   "nbconvert_exporter": "python",
   "pygments_lexer": "ipython3",
   "version": "3.7.4"
  },
  "toc": {
   "base_numbering": 1,
   "nav_menu": {},
   "number_sections": true,
   "sideBar": true,
   "skip_h1_title": false,
   "title_cell": "Table of Contents",
   "title_sidebar": "Contents",
   "toc_cell": false,
   "toc_position": {},
   "toc_section_display": true,
   "toc_window_display": false
  },
  "varInspector": {
   "cols": {
    "lenName": 16,
    "lenType": 16,
    "lenVar": 40
   },
   "kernels_config": {
    "python": {
     "delete_cmd_postfix": "",
     "delete_cmd_prefix": "del ",
     "library": "var_list.py",
     "varRefreshCmd": "print(var_dic_list())"
    },
    "r": {
     "delete_cmd_postfix": ") ",
     "delete_cmd_prefix": "rm(",
     "library": "var_list.r",
     "varRefreshCmd": "cat(var_dic_list()) "
    }
   },
   "types_to_exclude": [
    "module",
    "function",
    "builtin_function_or_method",
    "instance",
    "_Feature"
   ],
   "window_display": false
  }
 },
 "nbformat": 4,
 "nbformat_minor": 2
}
