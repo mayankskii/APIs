{
 "cells": [
  {
   "cell_type": "code",
   "execution_count": 2,
   "metadata": {},
   "outputs": [],
   "source": [
    "import numpy as np\n",
    "import pandas as pd\n",
    "from bs4 import BeautifulSoup\n",
    "from tqdm import tqdm_notebook as tqdm\n",
    "import wikipedia\n",
    "from googlesearch import search\n",
    "import re\n",
    "import requests\n",
    "import random\n",
    "import time\n",
    "from itertools import chain"
   ]
  },
  {
   "cell_type": "code",
   "execution_count": 3,
   "metadata": {},
   "outputs": [],
   "source": [
    "company = '03413859'"
   ]
  },
  {
   "cell_type": "code",
   "execution_count": 5,
   "metadata": {},
   "outputs": [
    {
     "data": {
      "text/plain": [
       "'https://companycheck.co.uk/company/03413859'"
      ]
     },
     "execution_count": 5,
     "metadata": {},
     "output_type": "execute_result"
    }
   ],
   "source": [
    "URL = 'https://companycheck.co.uk/company/'+company"
   ]
  },
  {
   "cell_type": "code",
   "execution_count": 6,
   "metadata": {},
   "outputs": [],
   "source": [
    "user_agent = 'Mozilla/5.0 (Macintosh; Intel Mac OS X 10_15_0) AppleWebKit/537.36 (KHTML, like Gecko) Chrome/77.0.3865.120 Safari/537.36'\n",
    "referer = 'https://www.google.com'\n",
    "headers = {'user-agent': user_agent, 'referer':referer}\n",
    "r = requests.get(URL, timeout= 30, allow_redirects=True, headers = headers)"
   ]
  },
  {
   "cell_type": "code",
   "execution_count": 8,
   "metadata": {},
   "outputs": [],
   "source": [
    "soup = BeautifulSoup(r.content, \"html.parser\")"
   ]
  },
  {
   "cell_type": "code",
   "execution_count": 92,
   "metadata": {},
   "outputs": [],
   "source": [
    "a = soup.find_all('tr')"
   ]
  },
  {
   "cell_type": "code",
   "execution_count": 74,
   "metadata": {},
   "outputs": [
    {
     "data": {
      "text/plain": [
       "'https://companycheck.co.uk/company/03413859/AEGIS-MANAGING-AGENCY-LIMITED/companies-house-data'"
      ]
     },
     "execution_count": 74,
     "metadata": {},
     "output_type": "execute_result"
    }
   ],
   "source": [
    "r.url"
   ]
  },
  {
   "cell_type": "code",
   "execution_count": 307,
   "metadata": {},
   "outputs": [],
   "source": [
    "def TAE(expr): # Trial and Error Module\n",
    "    try:\n",
    "        var = eval(expr)\n",
    "    except:\n",
    "        var = None\n",
    "    return var"
   ]
  },
  {
   "cell_type": "code",
   "execution_count": 308,
   "metadata": {},
   "outputs": [],
   "source": [
    "def key_financials(sub_soup, var):\n",
    "    if sub_soup!=None:\n",
    "        lis = sub_soup.table.find_all('tr')\n",
    "        notyear = []\n",
    "        year = []\n",
    "        if var != 'Accounts':\n",
    "            for j in lis:\n",
    "                if j.find('th').text == var:\n",
    "                    for i in lis[lis.index(j)].find_all('td'):\n",
    "                        notyear.append(i.text)\n",
    "            return notyear\n",
    "        else:\n",
    "            for j in lis:\n",
    "                if j.find('th').text == 'Accounts':\n",
    "                    for i in lis[lis.index(j)].find_all('time'):\n",
    "                        year.append(i.text)\n",
    "            return year\n",
    "    else:\n",
    "        return None"
   ]
  },
  {
   "cell_type": "code",
   "execution_count": 311,
   "metadata": {},
   "outputs": [],
   "source": [
    "# Pending Task: Apply Failsafe\n",
    "def CompanyCheck(ID, soup):\n",
    "    if soup!=None:\n",
    "        try:\n",
    "            # Non returned variables\n",
    "            a1 = TAE('''soup.find_all('div', class_ = 'Summary__detail')''')\n",
    "\n",
    "            # MidSupport Variables\n",
    "            if len(a1) > 0:\n",
    "                Summary__detail = []\n",
    "                for i in range(6):\n",
    "                    Summary__detail.append((list(a1[i].stripped_strings))[1])\n",
    "            else:\n",
    "                Summary__detail = [None] * 6\n",
    "\n",
    "            sub_soup = TAE('''soup.find('div', attrs = {'id': 'key-financials'})''')\n",
    "            financials = {\n",
    "                'accounts' : key_financials(sub_soup, 'Accounts'),\n",
    "                'cash' : key_financials(sub_soup, 'Cash'),\n",
    "                'net_worth' : key_financials(sub_soup, 'Net Worth'),\n",
    "                'total_assets' : key_financials(sub_soup, 'Total Current Assets'),\n",
    "                'total_liabilities': key_financials(sub_soup, 'Total Current Liabilities')\n",
    "            }\n",
    "\n",
    "            # Returned Variables\n",
    "            company_name = Summary__detail[0]\n",
    "            company_type = Summary__detail[1]\n",
    "            company_status = Summary__detail[2]\n",
    "            incorporated_on = Summary__detail[3]\n",
    "            SIC_detail = Summary__detail[4]\n",
    "            accounts = Summary__detail[5]\n",
    "\n",
    "            accounts_year = financials['accounts'][-1]\n",
    "            cash = financials['cash'][-1]\n",
    "            net_worth = financials['net_worth'][-1]\n",
    "            total_assets = financials['total_assets'][-1]\n",
    "            total_liabilities = financials['total_liabilities'][-1]\n",
    "\n",
    "            # EndTransform Variables\n",
    "\n",
    "        except (IndexError, KeyError):\n",
    "            data.append(None)\n",
    "        data = {\n",
    "            'ID':ID,\n",
    "            'company_name':company_name,\n",
    "            'company_type':company_type,\n",
    "            'company_status':company_status,\n",
    "            'incorporated_on':incorporated_on,\n",
    "            'SIC_detail':SIC_detail,\n",
    "            'accounts':accounts,\n",
    "            'accounts_year':accounts_year,\n",
    "            'cash':cash,\n",
    "            'net_worth':net_worth,\n",
    "            'total_assets':total_assets,\n",
    "            'total_liabilities':total_liabilities\n",
    "        }\n",
    "    else:\n",
    "        data = {\n",
    "            'ID':None,\n",
    "            'company_name':None,\n",
    "            'company_type':None,\n",
    "            'company_status':None,\n",
    "            'incorporated_on':None,\n",
    "            'SIC_detail':None,\n",
    "            'accounts':None,\n",
    "            'accounts_year':None,\n",
    "            'cash':None,\n",
    "            'net_worth':None,\n",
    "            'total_assets':None,\n",
    "            'total_liabilities':None\n",
    "        }\n",
    "    return [data, financials]"
   ]
  },
  {
   "cell_type": "code",
   "execution_count": 312,
   "metadata": {},
   "outputs": [],
   "source": [
    "result = CompanyCheck('03413859', soup)"
   ]
  },
  {
   "cell_type": "code",
   "execution_count": 315,
   "metadata": {},
   "outputs": [
    {
     "data": {
      "text/plain": [
       "{'ID': '03413859',\n",
       " 'company_name': 'AEGIS MANAGING AGENCY LIMITED',\n",
       " 'company_type': 'Private limited with Share Capital',\n",
       " 'company_status': 'Active - Accounts Filed',\n",
       " 'incorporated_on': '29 July 1997',\n",
       " 'SIC_detail': \"65120\\n                Non-life insurance\\n                - Lloyd's managing agency and is responsible for the management of Syndicate 1225.\",\n",
       " 'accounts': 'Available to 31 Dec 2018. Next accounts due by 30 Sep 2020',\n",
       " 'accounts_year': '2018',\n",
       " 'cash': '£95,000.00',\n",
       " 'net_worth': '£23,408,000.00',\n",
       " 'total_assets': '£43,852,000.00',\n",
       " 'total_liabilities': '£14,879,000.00'}"
      ]
     },
     "execution_count": 315,
     "metadata": {},
     "output_type": "execute_result"
    }
   ],
   "source": [
    "result[0]"
   ]
  },
  {
   "cell_type": "code",
   "execution_count": null,
   "metadata": {},
   "outputs": [],
   "source": []
  }
 ],
 "metadata": {
  "kernelspec": {
   "display_name": "Python 3",
   "language": "python",
   "name": "python3"
  },
  "language_info": {
   "codemirror_mode": {
    "name": "ipython",
    "version": 3
   },
   "file_extension": ".py",
   "mimetype": "text/x-python",
   "name": "python",
   "nbconvert_exporter": "python",
   "pygments_lexer": "ipython3",
   "version": "3.7.4"
  },
  "toc": {
   "base_numbering": 1,
   "nav_menu": {},
   "number_sections": true,
   "sideBar": true,
   "skip_h1_title": false,
   "title_cell": "Table of Contents",
   "title_sidebar": "Contents",
   "toc_cell": false,
   "toc_position": {},
   "toc_section_display": true,
   "toc_window_display": false
  },
  "varInspector": {
   "cols": {
    "lenName": 16,
    "lenType": 16,
    "lenVar": 40
   },
   "kernels_config": {
    "python": {
     "delete_cmd_postfix": "",
     "delete_cmd_prefix": "del ",
     "library": "var_list.py",
     "varRefreshCmd": "print(var_dic_list())"
    },
    "r": {
     "delete_cmd_postfix": ") ",
     "delete_cmd_prefix": "rm(",
     "library": "var_list.r",
     "varRefreshCmd": "cat(var_dic_list()) "
    }
   },
   "types_to_exclude": [
    "module",
    "function",
    "builtin_function_or_method",
    "instance",
    "_Feature"
   ],
   "window_display": false
  }
 },
 "nbformat": 4,
 "nbformat_minor": 2
}
