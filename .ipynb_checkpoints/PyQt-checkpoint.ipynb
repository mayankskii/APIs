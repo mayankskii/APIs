{
 "cells": [
  {
   "cell_type": "code",
   "execution_count": 1,
   "metadata": {},
   "outputs": [
    {
     "name": "stdout",
     "output_type": "stream",
     "text": [
      "Requirement already satisfied: dask[complete] in /Users/mayankmahawar/anaconda3/lib/python3.7/site-packages (2.5.2)\n",
      "Requirement already satisfied: distributed>=2.0; extra == \"complete\" in /Users/mayankmahawar/anaconda3/lib/python3.7/site-packages (from dask[complete]) (2.5.2)\n",
      "Requirement already satisfied: toolz>=0.7.3; extra == \"complete\" in /Users/mayankmahawar/anaconda3/lib/python3.7/site-packages (from dask[complete]) (0.10.0)\n",
      "Requirement already satisfied: cloudpickle>=0.2.1; extra == \"complete\" in /Users/mayankmahawar/anaconda3/lib/python3.7/site-packages (from dask[complete]) (1.2.2)\n",
      "Requirement already satisfied: bokeh>=1.0.0; extra == \"complete\" in /Users/mayankmahawar/anaconda3/lib/python3.7/site-packages (from dask[complete]) (1.3.4)\n",
      "Requirement already satisfied: pandas>=0.21.0; extra == \"complete\" in /Users/mayankmahawar/anaconda3/lib/python3.7/site-packages (from dask[complete]) (0.25.1)\n",
      "Requirement already satisfied: numpy>=1.13.0; extra == \"complete\" in /Users/mayankmahawar/anaconda3/lib/python3.7/site-packages (from dask[complete]) (1.17.2)\n",
      "Requirement already satisfied: fsspec>=0.5.1; extra == \"complete\" in /Users/mayankmahawar/anaconda3/lib/python3.7/site-packages (from dask[complete]) (0.5.2)\n",
      "Requirement already satisfied: partd>=0.3.10; extra == \"complete\" in /Users/mayankmahawar/anaconda3/lib/python3.7/site-packages (from dask[complete]) (1.0.0)\n",
      "Requirement already satisfied: sortedcontainers!=2.0.0,!=2.0.1 in /Users/mayankmahawar/anaconda3/lib/python3.7/site-packages (from distributed>=2.0; extra == \"complete\"->dask[complete]) (2.1.0)\n",
      "Requirement already satisfied: tornado>=5 in /Users/mayankmahawar/anaconda3/lib/python3.7/site-packages (from distributed>=2.0; extra == \"complete\"->dask[complete]) (6.0.3)\n",
      "Requirement already satisfied: click>=6.6 in /Users/mayankmahawar/anaconda3/lib/python3.7/site-packages (from distributed>=2.0; extra == \"complete\"->dask[complete]) (7.0)\n",
      "Requirement already satisfied: tblib in /Users/mayankmahawar/anaconda3/lib/python3.7/site-packages (from distributed>=2.0; extra == \"complete\"->dask[complete]) (1.4.0)\n",
      "Requirement already satisfied: zict>=0.1.3 in /Users/mayankmahawar/anaconda3/lib/python3.7/site-packages (from distributed>=2.0; extra == \"complete\"->dask[complete]) (1.0.0)\n",
      "Requirement already satisfied: msgpack in /Users/mayankmahawar/anaconda3/lib/python3.7/site-packages (from distributed>=2.0; extra == \"complete\"->dask[complete]) (0.6.1)\n",
      "Requirement already satisfied: psutil>=5.0 in /Users/mayankmahawar/anaconda3/lib/python3.7/site-packages (from distributed>=2.0; extra == \"complete\"->dask[complete]) (5.6.3)\n",
      "Requirement already satisfied: pyyaml in /Users/mayankmahawar/anaconda3/lib/python3.7/site-packages (from distributed>=2.0; extra == \"complete\"->dask[complete]) (5.1.2)\n",
      "Requirement already satisfied: Jinja2>=2.7 in /Users/mayankmahawar/anaconda3/lib/python3.7/site-packages (from bokeh>=1.0.0; extra == \"complete\"->dask[complete]) (2.10.3)\n",
      "Requirement already satisfied: pillow>=4.0 in /Users/mayankmahawar/anaconda3/lib/python3.7/site-packages (from bokeh>=1.0.0; extra == \"complete\"->dask[complete]) (6.2.0)\n",
      "Requirement already satisfied: six>=1.5.2 in /Users/mayankmahawar/anaconda3/lib/python3.7/site-packages (from bokeh>=1.0.0; extra == \"complete\"->dask[complete]) (1.12.0)\n",
      "Requirement already satisfied: packaging>=16.8 in /Users/mayankmahawar/anaconda3/lib/python3.7/site-packages (from bokeh>=1.0.0; extra == \"complete\"->dask[complete]) (19.2)\n",
      "Requirement already satisfied: python-dateutil>=2.1 in /Users/mayankmahawar/anaconda3/lib/python3.7/site-packages (from bokeh>=1.0.0; extra == \"complete\"->dask[complete]) (2.8.0)\n",
      "Requirement already satisfied: pytz>=2017.2 in /Users/mayankmahawar/anaconda3/lib/python3.7/site-packages (from pandas>=0.21.0; extra == \"complete\"->dask[complete]) (2019.3)\n",
      "Requirement already satisfied: locket in /Users/mayankmahawar/anaconda3/lib/python3.7/site-packages (from partd>=0.3.10; extra == \"complete\"->dask[complete]) (0.2.0)\n",
      "Requirement already satisfied: heapdict in /Users/mayankmahawar/anaconda3/lib/python3.7/site-packages (from zict>=0.1.3->distributed>=2.0; extra == \"complete\"->dask[complete]) (1.0.1)\n",
      "Requirement already satisfied: MarkupSafe>=0.23 in /Users/mayankmahawar/anaconda3/lib/python3.7/site-packages (from Jinja2>=2.7->bokeh>=1.0.0; extra == \"complete\"->dask[complete]) (1.1.1)\n",
      "Requirement already satisfied: pyparsing>=2.0.2 in /Users/mayankmahawar/anaconda3/lib/python3.7/site-packages (from packaging>=16.8->bokeh>=1.0.0; extra == \"complete\"->dask[complete]) (2.4.2)\n",
      "Note: you may need to restart the kernel to use updated packages.\n"
     ]
    }
   ],
   "source": [
    "pip install \"dask[complete]\""
   ]
  },
  {
   "cell_type": "code",
   "execution_count": 1,
   "metadata": {},
   "outputs": [
    {
     "ename": "ModuleNotFoundError",
     "evalue": "No module named 'blpapi'",
     "output_type": "error",
     "traceback": [
      "\u001b[0;31m---------------------------------------------------------------------------\u001b[0m",
      "\u001b[0;31mModuleNotFoundError\u001b[0m                       Traceback (most recent call last)",
      "\u001b[0;32m<ipython-input-1-16008cf57a9a>\u001b[0m in \u001b[0;36m<module>\u001b[0;34m\u001b[0m\n\u001b[0;32m----> 1\u001b[0;31m \u001b[0;32mimport\u001b[0m \u001b[0mpdblp\u001b[0m\u001b[0;34m\u001b[0m\u001b[0;34m\u001b[0m\u001b[0m\n\u001b[0m\u001b[1;32m      2\u001b[0m \u001b[0mcon\u001b[0m \u001b[0;34m=\u001b[0m \u001b[0mpdblp\u001b[0m\u001b[0;34m.\u001b[0m\u001b[0mBCon\u001b[0m\u001b[0;34m(\u001b[0m\u001b[0;34m)\u001b[0m\u001b[0;34m\u001b[0m\u001b[0;34m\u001b[0m\u001b[0m\n\u001b[1;32m      3\u001b[0m \u001b[0mcon\u001b[0m\u001b[0;34m.\u001b[0m\u001b[0mstart\u001b[0m\u001b[0;34m(\u001b[0m\u001b[0;34m)\u001b[0m\u001b[0;34m\u001b[0m\u001b[0;34m\u001b[0m\u001b[0m\n\u001b[1;32m      4\u001b[0m con.bdh(['IBM US Equity', 'MSFT US Equity'], ['PX_LAST', 'OPEN'],\n\u001b[1;32m      5\u001b[0m         '20061227', '20061231', elms=[(\"periodicityAdjustment\", \"ACTUAL\")])\n",
      "\u001b[0;32m~/anaconda3/lib/python3.7/site-packages/pdblp/__init__.py\u001b[0m in \u001b[0;36m<module>\u001b[0;34m\u001b[0m\n\u001b[0;32m----> 1\u001b[0;31m \u001b[0;32mfrom\u001b[0m \u001b[0;34m.\u001b[0m\u001b[0mpdblp\u001b[0m \u001b[0;32mimport\u001b[0m \u001b[0mBCon\u001b[0m  \u001b[0;31m# NOQA\u001b[0m\u001b[0;34m\u001b[0m\u001b[0;34m\u001b[0m\u001b[0m\n\u001b[0m\u001b[1;32m      2\u001b[0m \u001b[0;32mfrom\u001b[0m \u001b[0;34m.\u001b[0m\u001b[0mpdblp\u001b[0m \u001b[0;32mimport\u001b[0m \u001b[0mbopen\u001b[0m  \u001b[0;31m# NOQA\u001b[0m\u001b[0;34m\u001b[0m\u001b[0;34m\u001b[0m\u001b[0m\n\u001b[1;32m      3\u001b[0m \u001b[0;32mfrom\u001b[0m \u001b[0;34m.\u001b[0m\u001b[0m_version\u001b[0m \u001b[0;32mimport\u001b[0m \u001b[0m__version__\u001b[0m  \u001b[0;31m# NOQA\u001b[0m\u001b[0;34m\u001b[0m\u001b[0;34m\u001b[0m\u001b[0m\n",
      "\u001b[0;32m~/anaconda3/lib/python3.7/site-packages/pdblp/pdblp.py\u001b[0m in \u001b[0;36m<module>\u001b[0;34m\u001b[0m\n\u001b[1;32m      2\u001b[0m \u001b[0;32mimport\u001b[0m \u001b[0mcontextlib\u001b[0m\u001b[0;34m\u001b[0m\u001b[0;34m\u001b[0m\u001b[0m\n\u001b[1;32m      3\u001b[0m \u001b[0;34m\u001b[0m\u001b[0m\n\u001b[0;32m----> 4\u001b[0;31m \u001b[0;32mimport\u001b[0m \u001b[0mblpapi\u001b[0m\u001b[0;34m\u001b[0m\u001b[0;34m\u001b[0m\u001b[0m\n\u001b[0m\u001b[1;32m      5\u001b[0m \u001b[0;32mimport\u001b[0m \u001b[0mnumpy\u001b[0m \u001b[0;32mas\u001b[0m \u001b[0mnp\u001b[0m\u001b[0;34m\u001b[0m\u001b[0;34m\u001b[0m\u001b[0m\n\u001b[1;32m      6\u001b[0m \u001b[0;32mimport\u001b[0m \u001b[0mpandas\u001b[0m \u001b[0;32mas\u001b[0m \u001b[0mpd\u001b[0m\u001b[0;34m\u001b[0m\u001b[0;34m\u001b[0m\u001b[0m\n",
      "\u001b[0;31mModuleNotFoundError\u001b[0m: No module named 'blpapi'"
     ]
    }
   ],
   "source": [
    "import pdblp\n",
    "con = pdblp.BCon()\n",
    "con.start()\n",
    "con.bdh(['IBM US Equity', 'MSFT US Equity'], ['PX_LAST', 'OPEN'],\n",
    "        '20061227', '20061231', elms=[(\"periodicityAdjustment\", \"ACTUAL\")])"
   ]
  },
  {
   "cell_type": "code",
   "execution_count": 2,
   "metadata": {},
   "outputs": [],
   "source": [
    "from dask.distributed import Client, progress"
   ]
  },
  {
   "cell_type": "code",
   "execution_count": null,
   "metadata": {},
   "outputs": [],
   "source": []
  }
 ],
 "metadata": {
  "kernelspec": {
   "display_name": "Python 3",
   "language": "python",
   "name": "python3"
  },
  "language_info": {
   "codemirror_mode": {
    "name": "ipython",
    "version": 3
   },
   "file_extension": ".py",
   "mimetype": "text/x-python",
   "name": "python",
   "nbconvert_exporter": "python",
   "pygments_lexer": "ipython3",
   "version": "3.7.4"
  },
  "toc": {
   "base_numbering": 1,
   "nav_menu": {},
   "number_sections": true,
   "sideBar": true,
   "skip_h1_title": false,
   "title_cell": "Table of Contents",
   "title_sidebar": "Contents",
   "toc_cell": false,
   "toc_position": {},
   "toc_section_display": true,
   "toc_window_display": false
  },
  "varInspector": {
   "cols": {
    "lenName": 16,
    "lenType": 16,
    "lenVar": 40
   },
   "kernels_config": {
    "python": {
     "delete_cmd_postfix": "",
     "delete_cmd_prefix": "del ",
     "library": "var_list.py",
     "varRefreshCmd": "print(var_dic_list())"
    },
    "r": {
     "delete_cmd_postfix": ") ",
     "delete_cmd_prefix": "rm(",
     "library": "var_list.r",
     "varRefreshCmd": "cat(var_dic_list()) "
    }
   },
   "types_to_exclude": [
    "module",
    "function",
    "builtin_function_or_method",
    "instance",
    "_Feature"
   ],
   "window_display": false
  }
 },
 "nbformat": 4,
 "nbformat_minor": 2
}
