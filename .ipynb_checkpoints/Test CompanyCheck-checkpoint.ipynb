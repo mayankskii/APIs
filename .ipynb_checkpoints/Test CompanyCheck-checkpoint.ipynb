{
 "cells": [
  {
   "cell_type": "code",
   "execution_count": 2,
   "metadata": {},
   "outputs": [],
   "source": [
    "import numpy as np\n",
    "import pandas as pd\n",
    "from bs4 import BeautifulSoup\n",
    "from tqdm import tqdm_notebook as tqdm\n",
    "import wikipedia\n",
    "from googlesearch import search\n",
    "import re\n",
    "import requests\n",
    "import random\n",
    "import time\n",
    "from itertools import chain"
   ]
  },
  {
   "cell_type": "code",
   "execution_count": 3,
   "metadata": {},
   "outputs": [],
   "source": [
    "def TAE(expr): # Trial and Error Module\n",
    "    try:\n",
    "        var = eval(expr)\n",
    "    except:\n",
    "        var = None\n",
    "    return var"
   ]
  },
  {
   "cell_type": "code",
   "execution_count": 4,
   "metadata": {},
   "outputs": [],
   "source": [
    "def key_financials(sub_soup, var):\n",
    "    if sub_soup!=None:\n",
    "        lis = sub_soup.table.find_all('tr')\n",
    "        notyear = []\n",
    "        year = []\n",
    "        if var != 'Accounts':\n",
    "            for j in lis:\n",
    "                if j.find('th').text == var:\n",
    "                    for i in lis[lis.index(j)].find_all('td'):\n",
    "                        notyear.append(i.text)\n",
    "            return notyear\n",
    "        else:\n",
    "            for j in lis:\n",
    "                if j.find('th').text == 'Accounts':\n",
    "                    for i in lis[lis.index(j)].find_all('time'):\n",
    "                        year.append(i.text)\n",
    "            return year\n",
    "    else:\n",
    "        return None"
   ]
  },
  {
   "cell_type": "code",
   "execution_count": 136,
   "metadata": {},
   "outputs": [],
   "source": [
    "# Pending Task: Apply Failsafe\n",
    "def CompanyCheck(ID, soup):\n",
    "    if soup!=None:\n",
    "        try:\n",
    "            # Non returned variables\n",
    "            a1 = TAE('''soup.find_all('div', class_ = 'Summary__detail')''')\n",
    "\n",
    "            # MidSupport Variables\n",
    "            if len(a1) > 0:\n",
    "                Summary__detail = []\n",
    "                for i in range(6):\n",
    "                    Summary__detail.append((list(a1[i].stripped_strings))[1])\n",
    "            else:\n",
    "                Summary__detail = [None] * 6\n",
    "\n",
    "            sub_soup = TAE('''soup.find('div', attrs = {'id': 'key-financials'})''')\n",
    "            financials = {\n",
    "                'accounts' : key_financials(sub_soup, 'Accounts'),\n",
    "                'cash' : key_financials(sub_soup, 'Cash'),\n",
    "                'net_worth' : key_financials(sub_soup, 'Net Worth'),\n",
    "                'total_assets' : key_financials(sub_soup, 'Total Current Assets'),\n",
    "                'total_liabilities': key_financials(sub_soup, 'Total Current Liabilities')\n",
    "            }\n",
    "\n",
    "            # Returned Variables\n",
    "            company_name = Summary__detail[0]\n",
    "            company_type = Summary__detail[1]\n",
    "            company_status = Summary__detail[2]\n",
    "            incorporated_on = Summary__detail[3]\n",
    "            SIC_detail = Summary__detail[4]\n",
    "            accounts = Summary__detail[5]\n",
    "            \n",
    "            vls = list(financials.values())\n",
    "            if not any(vls) == False:\n",
    "                accounts_year = financials['accounts'][-1]\n",
    "                cash = financials['cash'][-1]\n",
    "                net_worth = financials['net_worth'][-1]\n",
    "                total_assets = financials['total_assets'][-1]\n",
    "                total_liabilities = financials['total_liabilities'][-1]\n",
    "            else:\n",
    "                accounts_year = None\n",
    "                cash = None\n",
    "                net_worth = None\n",
    "                total_assets = None\n",
    "                total_liabilities = None            \n",
    "\n",
    "            # EndTransform Variables\n",
    "            data = {\n",
    "                'ID':ID,\n",
    "                'company_name':company_name,\n",
    "                'company_type':company_type,\n",
    "                'company_status':company_status,\n",
    "                'incorporated_on':incorporated_on,\n",
    "                'SIC_detail':SIC_detail,\n",
    "                'accounts':accounts,\n",
    "                'accounts_year':accounts_year,\n",
    "                'cash':cash,\n",
    "                'net_worth':net_worth,\n",
    "                'total_assets':total_assets,\n",
    "                'total_liabilities':total_liabilities\n",
    "            }\n",
    "\n",
    "        except (IndexError, KeyError):\n",
    "                    data = {\n",
    "                        'ID':ID,\n",
    "                        'company_name':None,\n",
    "                        'company_type':None,\n",
    "                        'company_status':None,\n",
    "                        'incorporated_on':None,\n",
    "                        'SIC_detail':None,\n",
    "                        'accounts':None,\n",
    "                        'accounts_year':None,\n",
    "                        'cash':None,\n",
    "                        'net_worth':None,\n",
    "                        'total_assets':None,\n",
    "                        'total_liabilities':None\n",
    "                    }\n",
    "    else:\n",
    "        data = {\n",
    "            'ID':ID,\n",
    "            'company_name':None,\n",
    "            'company_type':None,\n",
    "            'company_status':None,\n",
    "            'incorporated_on':None,\n",
    "            'SIC_detail':None,\n",
    "            'accounts':None,\n",
    "            'accounts_year':None,\n",
    "            'cash':None,\n",
    "            'net_worth':None,\n",
    "            'total_assets':None,\n",
    "            'total_liabilities':None\n",
    "        }\n",
    "    return data"
   ]
  },
  {
   "cell_type": "code",
   "execution_count": 82,
   "metadata": {},
   "outputs": [],
   "source": [
    "def get_soup(company):\n",
    "    URL = 'https://companycheck.co.uk/company/'+company\n",
    "    user_agent = 'Mozilla/5.0 (Macintosh; Intel Mac OS X 10_15_0) AppleWebKit/537.36 (KHTML, like Gecko) Chrome/77.0.3865.120 Safari/537.36'\n",
    "    referer = 'https://www.google.com'\n",
    "    headers = {'user-agent': user_agent, 'referer':referer}\n",
    "    r = requests.get(URL, timeout= 30, allow_redirects=True, headers = headers)\n",
    "    if r.status_code == 200:\n",
    "        pass\n",
    "    else:\n",
    "        print('Connection --> ',r.status_code)\n",
    "    soup = BeautifulSoup(r.content, \"html.parser\")\n",
    "    return soup"
   ]
  },
  {
   "cell_type": "code",
   "execution_count": 83,
   "metadata": {},
   "outputs": [],
   "source": [
    "filepath = '/Users/mayankmahawar/Documents/GitHub/WebScrap/Book1.xlsx'\n",
    "df = pd.read_excel(filepath,sheet_name = 'Sheet1')\n",
    "companies = list(df['Company Number.1'])"
   ]
  },
  {
   "cell_type": "code",
   "execution_count": null,
   "metadata": {},
   "outputs": [],
   "source": [
    "import xlsxwriter \n",
    "  \n",
    "workbook = xlsxwriter.Workbook('Data1.xlsx') \n",
    "worksheet = workbook.get_sheet(0)\n",
    "  \n",
    "# Start from the first cell. \n",
    "# Rows and columns are zero indexed. \n",
    "row = 0\n",
    "column = 0\n",
    "content = list(result.values())\n",
    "# iterating through content list \n",
    " for \n",
    "    for item in content : \n",
    "\n",
    "        # write operation perform \n",
    "        worksheet.write(row, column, item) \n",
    "\n",
    "        # incrementing the value of row by one \n",
    "        # with each iteratons. \n",
    "        column += 1\n",
    "    row += 1\n",
    "workbook.close() "
   ]
  },
  {
   "cell_type": "code",
   "execution_count": null,
   "metadata": {},
   "outputs": [],
   "source": [
    "\n",
    "from openpyxl import load_workbook\n",
    "\n",
    "workbook_name = 'sample.xlsx'\n",
    "wb = load_workbook(workbook_name)\n",
    "page = wb.active\n",
    "\n",
    "# New data to write:\n",
    "new_companies = [['name3','address3','tel3','web3'], ['name4','address4','tel4','web4']]\n",
    "\n",
    "for info in new_companies:\n",
    "    page.append(info)\n",
    "\n",
    "wb.save(filename=workbook_name)"
   ]
  },
  {
   "cell_type": "code",
   "execution_count": 129,
   "metadata": {},
   "outputs": [],
   "source": [
    "import openpyxl\n",
    "wb = openpyxl.load_workbook('Data.xlsx')\n",
    "ws = wb['CompanyCheck']\n",
    "ws.append(['ID','company_name','company_type','company_status','incorporated_on','SIC_detail',\n",
    "           'accounts','accounts_year','cash','net_worth','total_assets','total_liabilities'])"
   ]
  },
  {
   "cell_type": "code",
   "execution_count": 130,
   "metadata": {},
   "outputs": [
    {
     "data": {
      "application/vnd.jupyter.widget-view+json": {
       "model_id": "0e5b50233edf4340895999c3751e1574",
       "version_major": 2,
       "version_minor": 0
      },
      "text/plain": [
       "HBox(children=(IntProgress(value=0, max=612), HTML(value='')))"
      ]
     },
     "metadata": {},
     "output_type": "display_data"
    },
    {
     "name": "stdout",
     "output_type": "stream",
     "text": [
      "Connection -->  500\n",
      "Connection -->  404\n",
      "\n"
     ]
    }
   ],
   "source": [
    "data = {'ID': [],\n",
    " 'company_name': [],\n",
    " 'company_type': [],\n",
    " 'company_status': [],\n",
    " 'incorporated_on': [],\n",
    " 'SIC_detail': [],\n",
    " 'accounts': [],\n",
    " 'accounts_year': [],\n",
    " 'cash': [],\n",
    " 'net_worth': [],\n",
    " 'total_assets': [],\n",
    " 'total_liabilities': []}\n",
    "\n",
    "for company in tqdm(companies):\n",
    "    soup = get_soup(company)\n",
    "    result = CompanyCheck(company, soup)\n",
    "    content = list(result.values())\n",
    "    ws.append(content)\n",
    "    \n",
    "#     for key in list(result.keys()):\n",
    "#         data[key].append(result[key])\n",
    "    \n",
    "    time.sleep(2*random.randint(1,5))"
   ]
  },
  {
   "cell_type": "code",
   "execution_count": 131,
   "metadata": {},
   "outputs": [],
   "source": [
    "wb.save(filename = 'Data.xlsx')\n",
    "wb.close()"
   ]
  },
  {
   "cell_type": "code",
   "execution_count": 68,
   "metadata": {},
   "outputs": [],
   "source": [
    "df = pd.DataFrame(data)"
   ]
  },
  {
   "cell_type": "code",
   "execution_count": 69,
   "metadata": {},
   "outputs": [
    {
     "data": {
      "text/html": [
       "<div>\n",
       "<style scoped>\n",
       "    .dataframe tbody tr th:only-of-type {\n",
       "        vertical-align: middle;\n",
       "    }\n",
       "\n",
       "    .dataframe tbody tr th {\n",
       "        vertical-align: top;\n",
       "    }\n",
       "\n",
       "    .dataframe thead th {\n",
       "        text-align: right;\n",
       "    }\n",
       "</style>\n",
       "<table border=\"1\" class=\"dataframe\">\n",
       "  <thead>\n",
       "    <tr style=\"text-align: right;\">\n",
       "      <th></th>\n",
       "      <th>ID</th>\n",
       "      <th>company_name</th>\n",
       "      <th>company_type</th>\n",
       "      <th>company_status</th>\n",
       "      <th>incorporated_on</th>\n",
       "      <th>SIC_detail</th>\n",
       "      <th>accounts</th>\n",
       "      <th>accounts_year</th>\n",
       "      <th>cash</th>\n",
       "      <th>net_worth</th>\n",
       "      <th>total_assets</th>\n",
       "      <th>total_liabilities</th>\n",
       "    </tr>\n",
       "  </thead>\n",
       "  <tbody>\n",
       "    <tr>\n",
       "      <td>0</td>\n",
       "      <td>01093301</td>\n",
       "      <td>AGEAS (UK) LIMITED</td>\n",
       "      <td>Private limited with Share Capital</td>\n",
       "      <td>Active - Accounts Filed</td>\n",
       "      <td>30 January 1973</td>\n",
       "      <td>64205\\n                Activities of financial...</td>\n",
       "      <td>Available to 31 Dec 2018. Next accounts due by...</td>\n",
       "      <td>2018</td>\n",
       "      <td>£9,026,000.00</td>\n",
       "      <td>£679,502,000.00</td>\n",
       "      <td>£12,418,000.00</td>\n",
       "      <td>£1,058,000.00</td>\n",
       "    </tr>\n",
       "    <tr>\n",
       "      <td>1</td>\n",
       "      <td>02341082</td>\n",
       "      <td>ASSURANT GENERAL INSURANCE LIMITED</td>\n",
       "      <td>Private limited with Share Capital</td>\n",
       "      <td>Active - Accounts Filed</td>\n",
       "      <td>30 January 1989</td>\n",
       "      <td>65120\\n                Non-life insurance\\n   ...</td>\n",
       "      <td>Available to 31 Dec 2018. Next accounts due by...</td>\n",
       "      <td>2018</td>\n",
       "      <td>£12,379,000.00</td>\n",
       "      <td>£77,998,000.00</td>\n",
       "      <td>£63,443,000.00</td>\n",
       "      <td>£22,377,000.00</td>\n",
       "    </tr>\n",
       "  </tbody>\n",
       "</table>\n",
       "</div>"
      ],
      "text/plain": [
       "         ID                        company_name  \\\n",
       "0  01093301                  AGEAS (UK) LIMITED   \n",
       "1  02341082  ASSURANT GENERAL INSURANCE LIMITED   \n",
       "\n",
       "                         company_type           company_status  \\\n",
       "0  Private limited with Share Capital  Active - Accounts Filed   \n",
       "1  Private limited with Share Capital  Active - Accounts Filed   \n",
       "\n",
       "   incorporated_on                                         SIC_detail  \\\n",
       "0  30 January 1973  64205\\n                Activities of financial...   \n",
       "1  30 January 1989  65120\\n                Non-life insurance\\n   ...   \n",
       "\n",
       "                                            accounts accounts_year  \\\n",
       "0  Available to 31 Dec 2018. Next accounts due by...          2018   \n",
       "1  Available to 31 Dec 2018. Next accounts due by...          2018   \n",
       "\n",
       "             cash        net_worth    total_assets total_liabilities  \n",
       "0   £9,026,000.00  £679,502,000.00  £12,418,000.00     £1,058,000.00  \n",
       "1  £12,379,000.00   £77,998,000.00  £63,443,000.00    £22,377,000.00  "
      ]
     },
     "execution_count": 69,
     "metadata": {},
     "output_type": "execute_result"
    }
   ],
   "source": [
    "df.head()"
   ]
  },
  {
   "cell_type": "code",
   "execution_count": 133,
   "metadata": {},
   "outputs": [],
   "source": [
    "soup = get_soup(companies[2])\n",
    "result = CompanyCheck(companies[2], soup)\n",
    "content = list(result.values())"
   ]
  },
  {
   "cell_type": "code",
   "execution_count": 134,
   "metadata": {},
   "outputs": [
    {
     "data": {
      "text/plain": [
       "[None, None, None, None, None, None, None, None, None, None, None, None]"
      ]
     },
     "execution_count": 134,
     "metadata": {},
     "output_type": "execute_result"
    }
   ],
   "source": [
    "content"
   ]
  },
  {
   "cell_type": "code",
   "execution_count": 135,
   "metadata": {},
   "outputs": [
    {
     "data": {
      "text/plain": [
       "'SE000103'"
      ]
     },
     "execution_count": 135,
     "metadata": {},
     "output_type": "execute_result"
    }
   ],
   "source": [
    "companies[2]"
   ]
  },
  {
   "cell_type": "code",
   "execution_count": null,
   "metadata": {},
   "outputs": [],
   "source": []
  }
 ],
 "metadata": {
  "kernelspec": {
   "display_name": "Python 3",
   "language": "python",
   "name": "python3"
  },
  "language_info": {
   "codemirror_mode": {
    "name": "ipython",
    "version": 3
   },
   "file_extension": ".py",
   "mimetype": "text/x-python",
   "name": "python",
   "nbconvert_exporter": "python",
   "pygments_lexer": "ipython3",
   "version": "3.7.4"
  },
  "toc": {
   "base_numbering": 1,
   "nav_menu": {},
   "number_sections": true,
   "sideBar": true,
   "skip_h1_title": false,
   "title_cell": "Table of Contents",
   "title_sidebar": "Contents",
   "toc_cell": false,
   "toc_position": {},
   "toc_section_display": true,
   "toc_window_display": false
  },
  "varInspector": {
   "cols": {
    "lenName": 16,
    "lenType": 16,
    "lenVar": 40
   },
   "kernels_config": {
    "python": {
     "delete_cmd_postfix": "",
     "delete_cmd_prefix": "del ",
     "library": "var_list.py",
     "varRefreshCmd": "print(var_dic_list())"
    },
    "r": {
     "delete_cmd_postfix": ") ",
     "delete_cmd_prefix": "rm(",
     "library": "var_list.r",
     "varRefreshCmd": "cat(var_dic_list()) "
    }
   },
   "types_to_exclude": [
    "module",
    "function",
    "builtin_function_or_method",
    "instance",
    "_Feature"
   ],
   "window_display": false
  }
 },
 "nbformat": 4,
 "nbformat_minor": 2
}
